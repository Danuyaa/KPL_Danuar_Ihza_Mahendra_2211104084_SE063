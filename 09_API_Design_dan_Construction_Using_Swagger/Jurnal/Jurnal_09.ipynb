{
 "cells": [
  {
   "cell_type": "code",
   "execution_count": null,
   "id": "27b87804",
   "metadata": {},
   "outputs": [
    {
     "name": "stdout",
     "output_type": "stream",
     "text": [
      "🚀 Swagger UI: https://f21f-2404-8000-102b-3ef-ccfd-e4d1-cee7-4f26.ngrok-free.app/docs\n",
      "🚀 API URL: https://f21f-2404-8000-102b-3ef-ccfd-e4d1-cee7-4f26.ngrok-free.app\n"
     ]
    },
    {
     "name": "stderr",
     "output_type": "stream",
     "text": [
      "INFO:     Started server process [22600]\n",
      "INFO:     Waiting for application startup.\n",
      "INFO:     Application startup complete.\n",
      "INFO:     Uvicorn running on http://127.0.0.1:3000 (Press CTRL+C to quit)\n"
     ]
    }
   ],
   "source": [
    "# Import library\n",
    "from fastapi import FastAPI, HTTPException\n",
    "from fastapi.responses import JSONResponse\n",
    "from pydantic import BaseModel\n",
    "from typing import List\n",
    "import nest_asyncio\n",
    "from pyngrok import ngrok, conf\n",
    "import uvicorn\n",
    "\n",
    "# Inisialisasi FastAPI\n",
    "app = FastAPI(\n",
    "    title=\"API Mahasiswa\",\n",
    "    description=\"API sederhana untuk mengelola data mahasiswa\",\n",
    "    version=\"1.0.0\"\n",
    ")\n",
    "\n",
    "# Konfigurasi ngrok (ganti dengan token milikmu)\n",
    "conf.get_default().auth_token = \"2wD8aJ3QrpkOGwu7YcDwBbW7aXK_kcp7echFBDfAthtrzRE9\"\n",
    "\n",
    "# MODEL Mahasiswa\n",
    "class Mahasiswa(BaseModel):\n",
    "    nama: str\n",
    "    nim: str\n",
    "    course: List[str]\n",
    "    year: int\n",
    "\n",
    "class ResponsePesan(BaseModel):\n",
    "    pesan: str\n",
    "\n",
    "# Static Data Mahasiswa\n",
    "mahasiswa_list = [\n",
    "    {\"nama\": \"Danuar ihza mahendra\", \"nim\": \"2211104084\", \"course\": [\"Calculus\", \"English\"], \"year\": 2023},\n",
    "    {\"nama\": \"John Doe\", \"nim\": \"1111111111\", \"course\": [\"Mathematics\", \"Physics\"], \"year\": 2023},\n",
    "    {\"nama\": \"Mark\", \"nim\": \"2222222222\", \"course\": [\"Chemistry\", \"Biology\"], \"year\": 2023},\n",
    "    {\"nama\": \"Jane\", \"nim\": \"4444444444\", \"course\": [\"History\", \"Geography\"], \"year\": 2023},\n",
    "]\n",
    "\n",
    "# ENDPOINTS\n",
    "\n",
    "# GET semua mahasiswa\n",
    "@app.get(\"/api/Mahasiswa\", response_model=List[Mahasiswa], tags=[\"Mahasiswa\"])\n",
    "def get_semua_mahasiswa():\n",
    "    return mahasiswa_list\n",
    "\n",
    "# GET mahasiswa berdasarkan index\n",
    "@app.get(\"/api/Mahasiswa/{index}\", response_model=Mahasiswa, tags=[\"Mahasiswa\"])\n",
    "def get_mahasiswa(index: int):\n",
    "    if 0 <= index < len(mahasiswa_list):\n",
    "        return mahasiswa_list[index]\n",
    "    raise HTTPException(status_code=404, detail=\"Index tidak ditemukan\")\n",
    "\n",
    "# POST mahasiswa baru\n",
    "@app.post(\"/api/Mahasiswa\", response_model=ResponsePesan, tags=[\"Mahasiswa\"])\n",
    "def tambah_mahasiswa(mahasiswa: Mahasiswa):\n",
    "    mahasiswa_list.append(mahasiswa.dict())\n",
    "    return {\"pesan\": \"Mahasiswa berhasil ditambahkan\"}\n",
    "\n",
    "# DELETE mahasiswa berdasarkan index\n",
    "@app.delete(\"/api/Mahasiswa/{index}\", response_model=ResponsePesan, tags=[\"Mahasiswa\"])\n",
    "def hapus_mahasiswa(index: int):\n",
    "    if 0 <= index < len(mahasiswa_list):\n",
    "        mahasiswa_list.pop(index)\n",
    "        return {\"pesan\": \"Mahasiswa berhasil dihapus\"}\n",
    "    raise HTTPException(status_code=404, detail=\"Index tidak ditemukan\")\n",
    "\n",
    "# Jalankan server\n",
    "nest_asyncio.apply()\n",
    "public_url = ngrok.connect(3000)\n",
    "print(\"🚀 Swagger UI:\", public_url.public_url + \"/docs\")\n",
    "print(\"🚀 API URL:\", public_url.public_url)\n",
    "\n",
    "uvicorn.run(app, port=3000)\n"
   ]
  }
 ],
 "metadata": {
  "kernelspec": {
   "display_name": "Python 3",
   "language": "python",
   "name": "python3"
  },
  "language_info": {
   "codemirror_mode": {
    "name": "ipython",
    "version": 3
   },
   "file_extension": ".py",
   "mimetype": "text/x-python",
   "name": "python",
   "nbconvert_exporter": "python",
   "pygments_lexer": "ipython3",
   "version": "3.11.2"
  }
 },
 "nbformat": 4,
 "nbformat_minor": 5
}
