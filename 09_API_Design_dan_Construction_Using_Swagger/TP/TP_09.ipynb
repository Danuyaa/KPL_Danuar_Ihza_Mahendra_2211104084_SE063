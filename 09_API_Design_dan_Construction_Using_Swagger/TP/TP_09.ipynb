{
 "cells": [
  {
   "cell_type": "code",
   "execution_count": 3,
   "id": "8b7ecfb7",
   "metadata": {},
   "outputs": [
    {
     "name": "stdout",
     "output_type": "stream",
     "text": [
      "🚀 Swagger UI: https://f4fa-2404-8000-102b-3ef-ccfd-e4d1-cee7-4f26.ngrok-free.app/docs\n",
      "🚀 API URL: https://f4fa-2404-8000-102b-3ef-ccfd-e4d1-cee7-4f26.ngrok-free.app\n"
     ]
    },
    {
     "name": "stderr",
     "output_type": "stream",
     "text": [
      "INFO:     Started server process [14904]\n",
      "INFO:     Waiting for application startup.\n",
      "INFO:     Application startup complete.\n",
      "ERROR:    [Errno 10048] error while attempting to bind on address ('127.0.0.1', 3000): only one usage of each socket address (protocol/network address/port) is normally permitted\n",
      "INFO:     Waiting for application shutdown.\n",
      "INFO:     Application shutdown complete.\n"
     ]
    },
    {
     "ename": "SystemExit",
     "evalue": "1",
     "output_type": "error",
     "traceback": [
      "An exception has occurred, use %tb to see the full traceback.\n",
      "\u001b[31mSystemExit\u001b[39m\u001b[31m:\u001b[39m 1\n"
     ]
    }
   ],
   "source": [
    "# Import library\n",
    "from fastapi import FastAPI\n",
    "from pydantic import BaseModel\n",
    "import nest_asyncio\n",
    "from pyngrok import ngrok, conf\n",
    "import uvicorn\n",
    "\n",
    "# Inisialisasi FastAPI\n",
    "app = FastAPI()\n",
    "\n",
    "# Konfigurasi ngrok (ganti token dengan punyamu)\n",
    "conf.get_default().auth_token = \"2xXdB7ghAbN1ZKNWRNir3M06LeU_3NwvgBKRk5zYLwCE2c2ji\"\n",
    "\n",
    "# MODELS\n",
    "class Mahasiswa(BaseModel):\n",
    "    nama: str\n",
    "    nim: str\n",
    "\n",
    "# DATA MAHASISWA - isi sesuai anggota kelompok (nama kamu paling atas)\n",
    "mahasiswa_list = [\n",
    "    {\"nama\": \"Danuar Ihza Mahendra\", \"nim\": \"2211104084\"},\n",
    "    {\"nama\": \"John Doe\", \"nim\": \"1111111111\"},\n",
    "    {\"nama\": \"Mark\", \"nim\": \"2222222222\"},\n",
    "    {\"nama\": \"Sarah\", \"nim\": \"3333333333\"},\n",
    "]\n",
    "\n",
    "# ENDPOINTS\n",
    "@app.get(\"/api/Mahasiswa\")\n",
    "def get_semua_mahasiswa():\n",
    "    return mahasiswa_list\n",
    "\n",
    "@app.get(\"/api/Mahasiswa/{index}\")\n",
    "def get_mahasiswa(index: int):\n",
    "    if 0 <= index < len(mahasiswa_list):\n",
    "        return mahasiswa_list[index]\n",
    "    return {\"error\": \"Index tidak ditemukan\"}\n",
    "\n",
    "@app.post(\"/api/Mahasiswa\")\n",
    "def tambah_mahasiswa(mahasiswa: Mahasiswa):\n",
    "    mahasiswa_list.append(mahasiswa.dict())\n",
    "    return {\"pesan\": \"Mahasiswa berhasil ditambahkan\"}\n",
    "\n",
    "@app.delete(\"/api/Mahasiswa/{index}\")\n",
    "def hapus_mahasiswa(index: int):\n",
    "    if 0 <= index < len(mahasiswa_list):\n",
    "        deleted = mahasiswa_list.pop(index)\n",
    "        return {\"pesan\": \"Mahasiswa berhasil dihapus\", \"data\": deleted}\n",
    "    return {\"error\": \"Index tidak ditemukan\"}\n",
    "\n",
    "# Jalankan server\n",
    "nest_asyncio.apply()\n",
    "public_url = ngrok.connect(3000)\n",
    "print(\"🚀 Swagger UI:\", public_url.public_url + \"/docs\")\n",
    "print(\"🚀 API URL:\", public_url.public_url)\n",
    "\n",
    "uvicorn.run(app, port=3000)\n"
   ]
  }
 ],
 "metadata": {
  "kernelspec": {
   "display_name": "Python 3",
   "language": "python",
   "name": "python3"
  },
  "language_info": {
   "codemirror_mode": {
    "name": "ipython",
    "version": 3
   },
   "file_extension": ".py",
   "mimetype": "text/x-python",
   "name": "python",
   "nbconvert_exporter": "python",
   "pygments_lexer": "ipython3",
   "version": "3.11.2"
  }
 },
 "nbformat": 4,
 "nbformat_minor": 5
}
